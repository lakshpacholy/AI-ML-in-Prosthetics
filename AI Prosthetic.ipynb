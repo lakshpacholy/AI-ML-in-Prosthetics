{
 "cells": [
  {
   "cell_type": "code",
   "execution_count": 3,
   "id": "1102d80a-766f-4c24-b78b-aabff44190fc",
   "metadata": {},
   "outputs": [],
   "source": [
    "import os\n",
    "os.environ[\"CUDA_VISIBLE_DEVICES\"] = \"-1\"\n",
    "import numpy as np\n",
    "import pandas as pd\n",
    "import matplotlib.pyplot as plt\n",
    "import seaborn as sns\n",
    "import librosa\n",
    "import librosa.display\n",
    "import tensorflow as tf\n",
    "import torch\n",
    "import torch.nn as nn\n",
    "import torch.optim as optim\n",
    "import torch.utils.data as data\n",
    "from sklearn.preprocessing import StandardScaler, MinMaxScaler\n",
    "from scipy.signal import spectrogram\n",
    "from tqdm import tqdm\n",
    "from tensorflow.keras.models import Sequential\n",
    "from tensorflow.keras.layers import Conv2D, MaxPooling2D, Flatten, Dense, Dropout, BatchNormalization\n",
    "from tensorflow.keras.utils import to_categorical\n"
   ]
  },
  {
   "cell_type": "code",
   "execution_count": 4,
   "id": "2efbed44-4b2b-40c0-aef8-c24457efbc50",
   "metadata": {},
   "outputs": [
    {
     "name": "stdout",
     "output_type": "stream",
     "text": [
      "Loaded files: ['10Nstanding - Sheet1.csv', '11Nstanding - Sheet1.csv', '3Nsitting - Sheet1.csv', '6Nstanding - Sheet1.csv', '5Nstanding - Sheet1.csv', '9Ngait - Sheet1.csv', '8Nstanding - Sheet1.csv', '4Nsitting - Sheet1.csv', '10Ngait - Sheet1.csv', '2Ngait - Sheet1.csv', '3Nstanding - Sheet1.csv', '7Ngait - Sheet1.csv', '5Ngait - Sheet1.csv', '7Nstanding - Sheet1.csv', '1Nstanding - Sheet1.csv', '1Nsitting - Sheet1.csv', '6Nsitting - Sheet1.csv', '1Ngait - 1Nmar.csv', '2Nsitting - Sheet1.csv', '7Nsitting - Sheet1.csv', '4Ngait - Sheet1.csv', '5Nsitting - Sheet1.csv', '8Ngait - Sheet1.csv', '2Nstanding - Sheet1.csv', '3Ngait - Sheet1.csv', '8Nsitting - Sheet1.csv', '4Nstanding - Sheet1.csv', '11Ngait - Sheet1.csv', '9Nstanding - Sheet1.csv', '10Nsitting - Sheet1.csv', '11Nsitting - Sheet1.csv', '6Ngait - Sheet1.csv', '9Nsitting - Sheet1.csv']\n"
     ]
    }
   ],
   "source": [
    "# Get file list\n",
    "normal_files = [f for f in os.listdir() if f.endswith('.csv') and 'N' in f]\n",
    "\n",
    "# Read datasets\n",
    "dataframes = {f: pd.read_csv(f) for f in normal_files}\n",
    "\n",
    "# Display available datasets\n",
    "print(\"Loaded files:\", normal_files)\n"
   ]
  },
  {
   "cell_type": "code",
   "execution_count": 5,
   "id": "f1e21227-7bba-4a74-8711-39382519382d",
   "metadata": {},
   "outputs": [],
   "source": [
    "# Function to preprocess data\n",
    "def preprocess_data(df):\n",
    "    scaler = MinMaxScaler()\n",
    "    df_scaled = scaler.fit_transform(df.iloc[:, :-1])  # Ignore last column (assumed label)\n",
    "    return df_scaled\n",
    "\n",
    "# Function to convert EMG signal into spectrogram\n",
    "def convert_to_spectrogram(data):\n",
    "    plt.figure(figsize=(3, 3))\n",
    "    f, t, Sxx = spectrogram(data, fs=100)  # Assume 100 Hz sampling rate\n",
    "    plt.pcolormesh(t, f, np.log(Sxx + 1e-10), shading='gouraud')  # Log scale for better contrast\n",
    "    plt.axis('off')\n",
    "    plt.close()\n",
    "    return np.expand_dims(Sxx, axis=-1)  # CNN expects a single channel image\n",
    "\n",
    "# Process all datasets\n",
    "processed_data = {name: preprocess_data(df) for name, df in dataframes.items()}\n"
   ]
  },
  {
   "cell_type": "code",
   "execution_count": 6,
   "id": "98bf012d-bf9b-4ace-9d10-2d2d94575ffa",
   "metadata": {},
   "outputs": [
    {
     "ename": "NameError",
     "evalue": "name 'X_data' is not defined",
     "output_type": "error",
     "traceback": [
      "\u001b[31m---------------------------------------------------------------------------\u001b[39m",
      "\u001b[31mNameError\u001b[39m                                 Traceback (most recent call last)",
      "\u001b[36mCell\u001b[39m\u001b[36m \u001b[39m\u001b[32mIn[6]\u001b[39m\u001b[32m, line 1\u001b[39m\n\u001b[32m----> \u001b[39m\u001b[32m1\u001b[39m \u001b[38;5;28mprint\u001b[39m(\u001b[33mf\u001b[39m\u001b[33m\"\u001b[39m\u001b[33mX_data Shape: \u001b[39m\u001b[38;5;132;01m{\u001b[39;00m\u001b[43mX_data\u001b[49m.shape\u001b[38;5;132;01m}\u001b[39;00m\u001b[33m\"\u001b[39m)\n\u001b[32m      2\u001b[39m \u001b[38;5;28mprint\u001b[39m(\u001b[33mf\u001b[39m\u001b[33m\"\u001b[39m\u001b[33mY_labels Shape: \u001b[39m\u001b[38;5;132;01m{\u001b[39;00mY_labels.shape\u001b[38;5;132;01m}\u001b[39;00m\u001b[33m\"\u001b[39m)\n",
      "\u001b[31mNameError\u001b[39m: name 'X_data' is not defined"
     ]
    }
   ],
   "source": [
    "\n"
   ]
  },
  {
   "cell_type": "code",
   "execution_count": null,
   "id": "49060df3-484e-41b8-8560-06d9f4089cdc",
   "metadata": {},
   "outputs": [
    {
     "name": "stderr",
     "output_type": "stream",
     "text": [
      "  0%|                                                 | 0/36900 [00:00<?, ?it/s]/tmp/ipykernel_19338/1893649023.py:10: UserWarning: nperseg = 256 is greater than input length  = 4, using nperseg = 4\n",
      "  f, t, Sxx = spectrogram(data, fs=100)  # Assume 100 Hz sampling rate\n",
      " 14%|█████▎                               | 5252/36900 [00:41<03:34, 147.20it/s]"
     ]
    }
   ],
   "source": [
    "# Convert each dataset into image format\n",
    "X_data, Y_labels = [], []\n",
    "\n",
    "for name, data in processed_data.items():\n",
    "    for row in tqdm(data):\n",
    "        img = convert_to_spectrogram(row)\n",
    "        X_data.append(img)\n",
    "        Y_labels.append(0)  # Assuming 0 for normal movement, modify for abnormal data\n",
    "\n",
    "# Convert to NumPy array\n",
    "X_data = np.array(X_data)\n",
    "Y_labels = np.array(Y_labels)\n",
    "\n",
    "# Train-Test Split\n",
    "from sklearn.model_selection import train_test_split\n",
    "X_train, X_test, y_train, y_test = train_test_split(X_data, Y_labels, test_size=0.2, random_state=42)\n",
    "\n",
    "# One-hot encoding labels\n",
    "y_train = to_categorical(y_train, num_classes=2)\n",
    "y_test = to_categorical(y_test, num_classes=2)\n",
    "\n",
    "print(\"Training data shape:\", X_train.shape)\n",
    "print(\"Test data shape:\", X_test.shape)\n",
    "print(f\"X_data Shape: {X_data.shape}\")\n",
    "print(f\"Y_labels Shape: {Y_labels.shape}\")"
   ]
  },
  {
   "cell_type": "code",
   "execution_count": null,
   "id": "960a3d41-0520-4deb-90d4-6290ebf50fe0",
   "metadata": {},
   "outputs": [],
   "source": []
  }
 ],
 "metadata": {
  "kernelspec": {
   "display_name": "Python 3 (ipykernel)",
   "language": "python",
   "name": "python3"
  },
  "language_info": {
   "codemirror_mode": {
    "name": "ipython",
    "version": 3
   },
   "file_extension": ".py",
   "mimetype": "text/x-python",
   "name": "python",
   "nbconvert_exporter": "python",
   "pygments_lexer": "ipython3",
   "version": "3.12.3"
  }
 },
 "nbformat": 4,
 "nbformat_minor": 5
}
